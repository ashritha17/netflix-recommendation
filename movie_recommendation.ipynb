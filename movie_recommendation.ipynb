{
  "nbformat": 4,
  "nbformat_minor": 0,
  "metadata": {
    "colab": {
      "name": "movie recommendation.ipynb",
      "provenance": [],
      "authorship_tag": "ABX9TyNN7IX7XzjzwvzRvi5J6yV1"
    },
    "kernelspec": {
      "name": "python3",
      "display_name": "Python 3"
    },
    "language_info": {
      "name": "python"
    }
  },
  "cells": [
    {
      "cell_type": "code",
      "metadata": {
        "id": "RlAJ72bbZGu3"
      },
      "source": [
        "import pandas as pd\n",
        "import numpy as np\n",
        "from sklearn.feature_extraction.text import CountVectorizer\n",
        "from sklearn.metrics.pairwise import cosine_similarity\n",
        "###### helper functions. Use them when needed #######\n"
      ],
      "execution_count": null,
      "outputs": []
    },
    {
      "cell_type": "code",
      "metadata": {
        "id": "y2mMC91LdD-3"
      },
      "source": [
        "def get_title_from_index(index):\n",
        "\treturn df[df.index == index][\"title\"].values[0]\n",
        "\n",
        "def get_index_from_title(title):\n",
        "\treturn df[df.title == title][\"index\"].values[0]"
      ],
      "execution_count": null,
      "outputs": []
    },
    {
      "cell_type": "code",
      "metadata": {
        "id": "M1AHos1iZVda"
      },
      "source": [
        "df = pd.read_csv('/content/movie_dataset.csv')\n"
      ],
      "execution_count": null,
      "outputs": []
    },
    {
      "cell_type": "code",
      "metadata": {
        "colab": {
          "base_uri": "https://localhost:8080/"
        },
        "id": "I4sQCB__Ha05",
        "outputId": "194c9173-e993-4276-ec03-9d233175c22c"
      },
      "source": [
        "print (df.columns)"
      ],
      "execution_count": null,
      "outputs": [
        {
          "output_type": "stream",
          "name": "stdout",
          "text": [
            "Index(['index', 'budget', 'genres', 'homepage', 'id', 'keywords',\n",
            "       'original_language', 'original_title', 'overview', 'popularity',\n",
            "       'production_companies', 'production_countries', 'release_date',\n",
            "       'revenue', 'runtime', 'spoken_languages', 'status', 'tagline', 'title',\n",
            "       'vote_average', 'vote_count', 'cast', 'crew', 'director'],\n",
            "      dtype='object')\n"
          ]
        }
      ]
    },
    {
      "cell_type": "code",
      "metadata": {
        "id": "n_MGMFgYHrr5"
      },
      "source": [
        "features = ['keywords','genres','cast','director']"
      ],
      "execution_count": null,
      "outputs": []
    },
    {
      "cell_type": "code",
      "metadata": {
        "id": "zdJWMYNtNP4Q"
      },
      "source": [
        "for feature in features:\n",
        "  df[feature]=df[feature].fillna(' ')\n"
      ],
      "execution_count": null,
      "outputs": []
    },
    {
      "cell_type": "code",
      "metadata": {
        "id": "chBRuyvzINHu"
      },
      "source": [
        "def combine_features(row):\n",
        "  try:\n",
        "   return row['keywords'] +\" \"+ row['genres'] +\" \"+ row['cast'] +\" \"+row['director']\n",
        "  except:\n",
        "    print('Error:',row)"
      ],
      "execution_count": null,
      "outputs": []
    },
    {
      "cell_type": "code",
      "metadata": {
        "id": "6M6SfHnZMs0u"
      },
      "source": [
        "df['combine_features']=df.apply(combine_features,axis=1)"
      ],
      "execution_count": null,
      "outputs": []
    },
    {
      "cell_type": "code",
      "metadata": {
        "colab": {
          "base_uri": "https://localhost:8080/"
        },
        "id": "QusGP_E2NIxH",
        "outputId": "6c29d41c-7346-4a5c-e759-5959d92c9be1"
      },
      "source": [
        "print( df.head())"
      ],
      "execution_count": null,
      "outputs": [
        {
          "output_type": "stream",
          "name": "stdout",
          "text": [
            "   index  ...                                   combine_features\n",
            "0      0  ...  culture clash future space war space colony so...\n",
            "1      1  ...  ocean drug abuse exotic island east india trad...\n",
            "2      2  ...  spy based on novel secret agent sequel mi6 Act...\n",
            "3      3  ...  dc comics crime fighter terrorist secret ident...\n",
            "4      4  ...  based on novel mars medallion space travel pri...\n",
            "\n",
            "[5 rows x 25 columns]\n"
          ]
        }
      ]
    },
    {
      "cell_type": "code",
      "metadata": {
        "id": "dFtCaGhAPbpQ"
      },
      "source": [
        "cv= CountVectorizer()\n",
        "count_matrix=cv.fit_transform(df[\"combine_features\"])"
      ],
      "execution_count": null,
      "outputs": []
    },
    {
      "cell_type": "code",
      "metadata": {
        "id": "Mp2rO_iDPx2a"
      },
      "source": [
        "cosine_sim=cosine_similarity(count_matrix)\n",
        "movie_likes=\"Avatar\""
      ],
      "execution_count": null,
      "outputs": []
    },
    {
      "cell_type": "code",
      "metadata": {
        "id": "Igsd6kOVP7-_"
      },
      "source": [
        "movie_index = get_index_from_title(movie_likes)"
      ],
      "execution_count": null,
      "outputs": []
    },
    {
      "cell_type": "code",
      "metadata": {
        "id": "GLq3i80qQMug"
      },
      "source": [
        "similar_movies =  list(enumerate((cosine_sim[movie_index])))"
      ],
      "execution_count": null,
      "outputs": []
    },
    {
      "cell_type": "code",
      "metadata": {
        "id": "94wXzE81Qqrj"
      },
      "source": [
        "sorted_similar_movies=sorted(similar_movies,key=lambda x:x[1],reverse=True)"
      ],
      "execution_count": null,
      "outputs": []
    },
    {
      "cell_type": "code",
      "metadata": {
        "colab": {
          "base_uri": "https://localhost:8080/"
        },
        "id": "CS7DNNS_RCUq",
        "outputId": "5a496b23-ba64-4019-9c5c-403f8e202c15"
      },
      "source": [
        "i=0\n",
        "for element in sorted_similar_movies:\n",
        "  print(get_title_from_index(element[0]))\n",
        "  i=i+1\n",
        "  if i>50:\n",
        "    break"
      ],
      "execution_count": null,
      "outputs": [
        {
          "output_type": "stream",
          "name": "stdout",
          "text": [
            "Avatar\n",
            "Guardians of the Galaxy\n",
            "Aliens\n",
            "Star Wars: Clone Wars: Volume 1\n",
            "Star Trek Into Darkness\n",
            "Star Trek Beyond\n",
            "Alien\n",
            "Lockout\n",
            "Jason X\n",
            "The Helix... Loaded\n",
            "Moonraker\n",
            "Planet of the Apes\n",
            "Galaxy Quest\n",
            "Gravity\n",
            "Alien³\n",
            "Jupiter Ascending\n",
            "The Wolverine\n",
            "Silent Running\n",
            "Zathura: A Space Adventure\n",
            "Trekkies\n",
            "Cargo\n",
            "Wing Commander\n",
            "Star Trek\n",
            "Lost in Space\n",
            "Babylon A.D.\n",
            "The Fifth Element\n",
            "Oblivion\n",
            "Titan A.E.\n",
            "AVP: Alien vs. Predator\n",
            "The Empire Strikes Back\n",
            "Dragonball Evolution\n",
            "Superman Returns\n",
            "Divergent\n",
            "John Carter\n",
            "The Black Hole\n",
            "The Ice Pirates\n",
            "Memoirs of an Invisible Man\n",
            "Starship Troopers\n",
            "The Astronaut's Wife\n",
            "Machete Kills\n",
            "Soldier\n",
            "The Abyss\n",
            "Damnation Alley\n",
            "Men in Black\n",
            "Space Cowboys\n",
            "Space Dogs\n",
            "The Time Machine\n",
            "Sheena\n",
            "Captain America: Civil War\n",
            "Star Trek: Insurrection\n",
            "Oz: The Great and Powerful\n"
          ]
        }
      ]
    }
  ]
}